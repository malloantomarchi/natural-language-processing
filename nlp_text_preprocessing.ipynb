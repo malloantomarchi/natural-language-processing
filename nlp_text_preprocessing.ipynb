{
 "cells": [
  {
   "cell_type": "markdown",
   "id": "59ddf256-aba3-42b1-89af-1f4a9ae0484c",
   "metadata": {},
   "source": [
    "# Natural Language Processing"
   ]
  },
  {
   "cell_type": "markdown",
   "id": "8668db46-db15-4927-a0d9-61959cfa52de",
   "metadata": {},
   "source": [
    "## Data Cleaning"
   ]
  },
  {
   "cell_type": "markdown",
   "id": "8adb95fe-c084-4003-a460-5ca10965ca06",
   "metadata": {},
   "source": [
    "### Lowercase"
   ]
  },
  {
   "cell_type": "code",
   "execution_count": null,
   "id": "151fb194-2525-43b4-93b5-082669559cbd",
   "metadata": {},
   "outputs": [],
   "source": [
    "sentence = \"Her cat's name is Luna\""
   ]
  },
  {
   "cell_type": "code",
   "execution_count": null,
   "id": "f3a0a0ec-c47c-4c80-b3fe-9b89570584cb",
   "metadata": {},
   "outputs": [],
   "source": [
    "lower_sentence = sentence.lower()"
   ]
  },
  {
   "cell_type": "code",
   "execution_count": null,
   "id": "ac479f4e-386e-42ef-871c-9b29bcd230c1",
   "metadata": {},
   "outputs": [],
   "source": [
    "print(lower_sentence)"
   ]
  },
  {
   "cell_type": "code",
   "execution_count": null,
   "id": "d72fb50e-8f27-488e-b77f-b95b84316669",
   "metadata": {},
   "outputs": [],
   "source": [
    "sentence_list = [\n",
    "    \"Could you pass me the TV remote?\",\n",
    "    \"It is IMPOSSIBLE to find this hotel\",\n",
    "    \"Want to go for dinner on Tuesday?\"\n",
    "]"
   ]
  },
  {
   "cell_type": "code",
   "execution_count": null,
   "id": "f7655b08-36bd-4d4a-b3ef-63d64f771ebb",
   "metadata": {},
   "outputs": [],
   "source": [
    "lower_sentence_list = [x.lower() for x in sentence_list]"
   ]
  },
  {
   "cell_type": "code",
   "execution_count": null,
   "id": "709da6f1-822c-499c-8dea-4f059ab62c21",
   "metadata": {},
   "outputs": [],
   "source": [
    "print(lower_sentence_list)"
   ]
  },
  {
   "cell_type": "markdown",
   "id": "8c8e6f71-e406-44e0-abf6-7f24b5e957dd",
   "metadata": {},
   "source": [
    "### Remove Stop Words"
   ]
  },
  {
   "cell_type": "code",
   "execution_count": null,
   "id": "15ce2be9-d1b3-491b-ba32-6e51660f2765",
   "metadata": {},
   "outputs": [],
   "source": [
    "import nltk"
   ]
  },
  {
   "cell_type": "code",
   "execution_count": null,
   "id": "f55a777f-beed-49fe-b2d6-d0d0900bf23f",
   "metadata": {},
   "outputs": [],
   "source": [
    "nltk.download('stopwords')"
   ]
  },
  {
   "cell_type": "code",
   "execution_count": null,
   "id": "c08a3ad4-c6f2-4da7-94cd-773df71df528",
   "metadata": {},
   "outputs": [],
   "source": [
    "from nltk.corpus import stopwords"
   ]
  },
  {
   "cell_type": "code",
   "execution_count": null,
   "id": "c89824ff-8aff-4764-a61d-5459add21366",
   "metadata": {},
   "outputs": [],
   "source": [
    "en_stopwords = stopwords.words('english')"
   ]
  },
  {
   "cell_type": "code",
   "execution_count": null,
   "id": "b3e7ea47-e4b8-4ed3-adfb-5ad3dd139991",
   "metadata": {},
   "outputs": [],
   "source": [
    "print(en_stopwords)"
   ]
  },
  {
   "cell_type": "code",
   "execution_count": null,
   "id": "bba60672-3f88-4f3e-93a8-2d413aafd6c6",
   "metadata": {},
   "outputs": [],
   "source": [
    "sentence = \"it was too far to go to the shop and we did not want her to walk\""
   ]
  },
  {
   "cell_type": "code",
   "execution_count": null,
   "id": "d9c619bc-443f-405a-80b0-450952504c91",
   "metadata": {},
   "outputs": [],
   "source": [
    "sentence_no_stopwords = ' '.join([word for word in sentence.split() if word not in en_stopwords])"
   ]
  },
  {
   "cell_type": "code",
   "execution_count": null,
   "id": "68831a16-d60a-4db4-95e2-6b211975ccee",
   "metadata": {},
   "outputs": [],
   "source": [
    "print(sentence_no_stopwords)"
   ]
  },
  {
   "cell_type": "code",
   "execution_count": null,
   "id": "9997e82c-aa7e-47f1-bdd7-6623bcf21232",
   "metadata": {},
   "outputs": [],
   "source": [
    "en_stopwords.remove('did')\n",
    "en_stopwords.remove('not')"
   ]
  },
  {
   "cell_type": "code",
   "execution_count": null,
   "id": "75f4cddd-c784-40a0-8712-9bfe05d6e9cc",
   "metadata": {},
   "outputs": [],
   "source": [
    "en_stopwords.append('go')"
   ]
  },
  {
   "cell_type": "code",
   "execution_count": null,
   "id": "50c27393-fbcf-4967-bdd5-08c1e55bb01a",
   "metadata": {},
   "outputs": [],
   "source": [
    "sentence_no_stopwords_custom = ' '.join([word for word in sentence.split() if word not in en_stopwords])"
   ]
  },
  {
   "cell_type": "code",
   "execution_count": null,
   "id": "288c0c8b-7413-48b9-9119-8b7e73aeff6e",
   "metadata": {},
   "outputs": [],
   "source": [
    "print(sentence_no_stopwords_custom)"
   ]
  },
  {
   "cell_type": "markdown",
   "id": "41827419-8d8f-4e13-9c74-830ac13afca0",
   "metadata": {},
   "source": [
    "### Regular Expression (Regex)"
   ]
  },
  {
   "cell_type": "code",
   "execution_count": null,
   "id": "59fe88d5-d854-4678-8e20-d128428d8720",
   "metadata": {},
   "outputs": [],
   "source": [
    "import re"
   ]
  },
  {
   "cell_type": "code",
   "execution_count": null,
   "id": "5c15b806-d304-4149-8be1-e3f389284f73",
   "metadata": {},
   "outputs": [],
   "source": [
    "my_folder = r\"C:\\desktop\\notes\"\n",
    "print(my_folder)"
   ]
  },
  {
   "cell_type": "code",
   "execution_count": null,
   "id": "387149c6-fcf3-4815-b6db-923b23d303d9",
   "metadata": {},
   "outputs": [],
   "source": [
    "result_search = re.search(\"pattern\", r\"string to contain the pattern\")"
   ]
  },
  {
   "cell_type": "code",
   "execution_count": null,
   "id": "e4c50cd5-046f-4b5d-b762-83ecc5652c13",
   "metadata": {},
   "outputs": [],
   "source": [
    "print(result_search)"
   ]
  },
  {
   "cell_type": "code",
   "execution_count": null,
   "id": "120a5824-d3ba-4c51-b409-cce072e9291a",
   "metadata": {},
   "outputs": [],
   "source": [
    "result_search_2 = re.search(\"pattern\", r\"string without it\")"
   ]
  },
  {
   "cell_type": "code",
   "execution_count": null,
   "id": "57d1c403-80ce-4c76-b5c9-4663eb3540e6",
   "metadata": {},
   "outputs": [],
   "source": [
    "print(result_search_2)"
   ]
  },
  {
   "cell_type": "code",
   "execution_count": null,
   "id": "f81d921d-cc47-4e3c-a63a-669363c4a809",
   "metadata": {},
   "outputs": [],
   "source": [
    "string = r\"sara was able to help me find the item I needed quickly\""
   ]
  },
  {
   "cell_type": "code",
   "execution_count": null,
   "id": "48b914f3-d878-4237-9c47-59dde6aefbbe",
   "metadata": {},
   "outputs": [],
   "source": [
    "new_string = re.sub(\"sara\", \"Sarah\", string)"
   ]
  },
  {
   "cell_type": "code",
   "execution_count": null,
   "id": "528546b3-3def-4ec3-b40b-e8f08d631df5",
   "metadata": {},
   "outputs": [],
   "source": [
    "print(new_string)"
   ]
  },
  {
   "cell_type": "code",
   "execution_count": null,
   "id": "db84a95a-7ca6-4a34-9ed5-87921c80b790",
   "metadata": {},
   "outputs": [],
   "source": [
    "customer_reviews = [\"Sam was a great help to me in the store\",\n",
    "                   \"The cashier was very rude to me. I think her name was Eleanor\",\n",
    "                   \"Amazing work from Sadeen!\",\n",
    "                   \"sarah was able to help me find the item I needed quickly\",\n",
    "                   \"Lucy is such a great addition to the team\",\n",
    "                   \"Great service from sara she found me what I wanted\"]"
   ]
  },
  {
   "cell_type": "code",
   "execution_count": null,
   "id": "223b0be8-e670-4f92-a195-9b9e45f6bda3",
   "metadata": {},
   "outputs": [],
   "source": [
    "sarah_reviews = []"
   ]
  },
  {
   "cell_type": "code",
   "execution_count": null,
   "id": "0928b460-569f-41b5-9b7b-12838f964c61",
   "metadata": {},
   "outputs": [],
   "source": [
    "pattern_to_find = r\"sarah?\""
   ]
  },
  {
   "cell_type": "code",
   "execution_count": null,
   "id": "60ea75fe-9d03-481b-a335-e1687653161f",
   "metadata": {},
   "outputs": [],
   "source": [
    "for string in customer_reviews:\n",
    "    if re.search(pattern_to_find, string):\n",
    "        sarah_reviews.append(string)"
   ]
  },
  {
   "cell_type": "code",
   "execution_count": null,
   "id": "cfc32a40-bab4-459c-a944-9885a6d4528c",
   "metadata": {},
   "outputs": [],
   "source": [
    "print(sarah_reviews)"
   ]
  },
  {
   "cell_type": "code",
   "execution_count": null,
   "id": "9a964693-1324-43e1-bb45-768df6702b82",
   "metadata": {},
   "outputs": [],
   "source": [
    "a_reviews = []\n",
    "pattern_to_find = r\"^A\"\n",
    "\n",
    "for string in customer_reviews:\n",
    "    if re.search(pattern_to_find, string):\n",
    "        a_reviews.append(string)\n",
    "\n",
    "print(a_reviews)"
   ]
  },
  {
   "cell_type": "code",
   "execution_count": null,
   "id": "34545813-9ebc-4395-8521-628f6d326d5b",
   "metadata": {},
   "outputs": [],
   "source": [
    "y_reviews = []\n",
    "pattern_to_find = r\"y$\"\n",
    "\n",
    "for string in customer_reviews:\n",
    "    if re.search(pattern_to_find, string):\n",
    "        y_reviews.append(string)\n",
    "\n",
    "print(y_reviews)"
   ]
  },
  {
   "cell_type": "code",
   "execution_count": null,
   "id": "884dacb3-c7b3-4110-836c-8cfe13a159ac",
   "metadata": {},
   "outputs": [],
   "source": [
    "needwant_reviews = []\n",
    "pattern_to_find = r\"(need|want)ed\"\n",
    "\n",
    "for string in customer_reviews:\n",
    "    if re.search(pattern_to_find, string):\n",
    "        needwant_reviews.append(string)\n",
    "\n",
    "print(needwant_reviews)"
   ]
  },
  {
   "cell_type": "code",
   "execution_count": null,
   "id": "0e283d6a-26d3-43fe-ba5a-1caa6a869574",
   "metadata": {},
   "outputs": [],
   "source": [
    "no_punct_reviews = []\n",
    "pattern_to_find = r\"[^\\w\\s]\"\n",
    "\n",
    "for string in customer_reviews:\n",
    "    no_punct_string = re.sub(pattern_to_find, \"\", string)\n",
    "    no_punct_reviews.append(no_punct_string)\n",
    "\n",
    "print(no_punct_reviews)"
   ]
  },
  {
   "cell_type": "markdown",
   "id": "3bdde3fc-ed03-492b-a906-228f377c32af",
   "metadata": {},
   "source": [
    "### Tokenization"
   ]
  },
  {
   "cell_type": "code",
   "execution_count": null,
   "id": "2d09b874-6329-480c-ace0-268b03b897b3",
   "metadata": {},
   "outputs": [],
   "source": [
    "import nltk"
   ]
  },
  {
   "cell_type": "code",
   "execution_count": null,
   "id": "f5011d19-bc51-4f7a-bd23-5ea0d57dd3e2",
   "metadata": {},
   "outputs": [],
   "source": [
    "nltk.download('punkt')"
   ]
  },
  {
   "cell_type": "code",
   "execution_count": null,
   "id": "d0951051-83fc-4f40-a4f1-f11d365cf292",
   "metadata": {},
   "outputs": [],
   "source": [
    "from nltk.tokenize import word_tokenize, sent_tokenize"
   ]
  },
  {
   "cell_type": "code",
   "execution_count": null,
   "id": "4b1f001a-9dc4-477d-9c8f-bc29b9107d00",
   "metadata": {},
   "outputs": [],
   "source": [
    "sentences = \"Her cat's name is Luna. Her dog's name is Max\""
   ]
  },
  {
   "cell_type": "code",
   "execution_count": null,
   "id": "0f71d263-c074-403b-be5c-a961aa2aa74d",
   "metadata": {},
   "outputs": [],
   "source": [
    "sent_tokenize(sentences)"
   ]
  },
  {
   "cell_type": "code",
   "execution_count": null,
   "id": "9f13e9c8-0ace-4c19-bc9b-5d0567f98619",
   "metadata": {},
   "outputs": [],
   "source": [
    "sentence = \"Her cat's name is Luna\"\n",
    "word_tokenize(sentence)"
   ]
  },
  {
   "cell_type": "code",
   "execution_count": null,
   "id": "aed9e3a6-2499-4095-909d-f27cc8231f2a",
   "metadata": {},
   "outputs": [],
   "source": [
    "sentence_2 = \"Her cat's name is Luna and her dog's name is Max\"\n",
    "word_tokenize(sentence_2)"
   ]
  },
  {
   "cell_type": "markdown",
   "id": "8720272f-3ef4-4355-ae93-80a11f8598f6",
   "metadata": {},
   "source": [
    "### Stemming (standardize text)"
   ]
  },
  {
   "cell_type": "code",
   "execution_count": null,
   "id": "a21adbee-7af3-453e-a310-6d6821906b41",
   "metadata": {},
   "outputs": [],
   "source": [
    "from nltk import PorterStemmer"
   ]
  },
  {
   "cell_type": "code",
   "execution_count": null,
   "id": "85ac26ee-d35e-499a-9b63-af30b858a663",
   "metadata": {},
   "outputs": [],
   "source": [
    "ps = PorterStemmer()"
   ]
  },
  {
   "cell_type": "code",
   "execution_count": null,
   "id": "15954170-e2d3-489e-979e-5e0b3dc44a51",
   "metadata": {},
   "outputs": [],
   "source": [
    "connect_tokens = ['connecting', 'connected', 'connectivity', 'connect', 'connects']"
   ]
  },
  {
   "cell_type": "code",
   "execution_count": null,
   "id": "7edbae94-47c5-41ea-930f-edf7f795204f",
   "metadata": {},
   "outputs": [],
   "source": [
    "for t in connect_tokens:\n",
    "    print(t, ': ', ps.stem(t))"
   ]
  },
  {
   "cell_type": "code",
   "execution_count": null,
   "id": "62b4eea1-ceee-4590-9dc2-c64dc0cc604f",
   "metadata": {},
   "outputs": [],
   "source": [
    "learn_tokens = ['learned', 'learning', 'learn', 'learns', 'learner', 'learners']"
   ]
  },
  {
   "cell_type": "code",
   "execution_count": null,
   "id": "cfdba7c9-bee3-4f5d-94b4-cad680cdc58f",
   "metadata": {},
   "outputs": [],
   "source": [
    "for t in learn_tokens:\n",
    "    print(t, \": \", ps.stem(t))"
   ]
  },
  {
   "cell_type": "code",
   "execution_count": null,
   "id": "5b6bc9bf-7e9a-480f-af1d-268078f3ced8",
   "metadata": {},
   "outputs": [],
   "source": [
    "likes_tokens = ['likes', 'better', 'worse']"
   ]
  },
  {
   "cell_type": "code",
   "execution_count": null,
   "id": "ec71568c-7a06-4e75-98fa-463047dcb9a9",
   "metadata": {},
   "outputs": [],
   "source": [
    "for t in likes_tokens:\n",
    "    print(t, \": \", ps.stem(t))"
   ]
  },
  {
   "cell_type": "markdown",
   "id": "c3a1dad1-4138-468e-86d6-7fa06be9339b",
   "metadata": {},
   "source": [
    "### Lemmatization (stems words to a more meaningful base form)"
   ]
  },
  {
   "cell_type": "code",
   "execution_count": null,
   "id": "f745ac8e-4699-47d4-aa80-b9a75898be04",
   "metadata": {},
   "outputs": [],
   "source": [
    "nltk.download('wordnet')"
   ]
  },
  {
   "cell_type": "code",
   "execution_count": null,
   "id": "65671650-f839-4435-a13f-ad3f9d95ef80",
   "metadata": {},
   "outputs": [],
   "source": [
    "from nltk.stem import WordNetLemmatizer"
   ]
  },
  {
   "cell_type": "code",
   "execution_count": null,
   "id": "d21d3b91-2436-4b90-a8c2-cf6812a0605e",
   "metadata": {},
   "outputs": [],
   "source": [
    "lemmatizer = WordNetLemmatizer()"
   ]
  },
  {
   "cell_type": "code",
   "execution_count": null,
   "id": "b182779b-8d1f-464f-8b63-7cf9b64cc0e6",
   "metadata": {},
   "outputs": [],
   "source": [
    "for t in connect_tokens:\n",
    "    print(t, \": \", lemmatizer.lemmatize(t))"
   ]
  },
  {
   "cell_type": "code",
   "execution_count": null,
   "id": "a81a987d-bfb9-4616-b4c1-11a32f2762d6",
   "metadata": {},
   "outputs": [],
   "source": [
    "for t in learn_tokens:\n",
    "    print(t, \": \", lemmatizer.lemmatize(t))"
   ]
  },
  {
   "cell_type": "code",
   "execution_count": null,
   "id": "6f61bd7a-7e17-4302-b36d-c4b3f148d8c8",
   "metadata": {},
   "outputs": [],
   "source": [
    "for t in likes_tokens:\n",
    "    print(t, \": \", lemmatizer.lemmatize(t))"
   ]
  },
  {
   "cell_type": "markdown",
   "id": "007b3165-58f5-4768-829d-6715f806afd9",
   "metadata": {},
   "source": [
    "### N-grams"
   ]
  },
  {
   "cell_type": "code",
   "execution_count": null,
   "id": "a112fce4-59fe-432b-8ab1-e1f461ed5949",
   "metadata": {},
   "outputs": [],
   "source": [
    "import nltk\n",
    "import pandas as pd\n",
    "import matplotlib.pyplot as plt"
   ]
  },
  {
   "cell_type": "code",
   "execution_count": null,
   "id": "ba05d33b-4b73-47e4-9f3d-ba2387ed5d07",
   "metadata": {},
   "outputs": [],
   "source": [
    "tokens = [\"apple\", \"book\", \"desk\", \"pen\", \"desk\",  \"cat\", \"dog\", \"tree\", \"house\",\"desk\", \"car\", \"phone\",\n",
    "             \"computer\", \"laptop\", \"keyboard\", \"mouse\", \"mouse\", \"chair\", \"table\", \"door\", \"window\", \"phone\", \"wall\", \"floor\"]\n",
    "print(tokens)"
   ]
  },
  {
   "cell_type": "code",
   "execution_count": null,
   "id": "cb1b3462-a81d-41b1-9b42-d3fabf514ce4",
   "metadata": {},
   "outputs": [],
   "source": [
    "unigrams = (pd.Series(nltk.ngrams(tokens, 1)).value_counts())\n",
    "print(unigrams[:10])"
   ]
  },
  {
   "cell_type": "code",
   "execution_count": null,
   "id": "0175270e-ba23-41c6-89b7-f2231c3c4733",
   "metadata": {},
   "outputs": [],
   "source": [
    "unigrams[:10].sort_values().plot.barh(color='lightsalmon', width=.9, figsize=(12,8))\n",
    "plt.title(\"10 Most Frequently Occuring Unigrams\")"
   ]
  },
  {
   "cell_type": "code",
   "execution_count": null,
   "id": "6f167a56-d887-4dcb-a1bd-87e220b70e38",
   "metadata": {},
   "outputs": [],
   "source": [
    "bigrams = (pd.Series(nltk.ngrams(tokens, 2)).value_counts())\n",
    "print(bigrams[:10])"
   ]
  },
  {
   "cell_type": "code",
   "execution_count": null,
   "id": "8ee55ee0-ca89-40aa-a2ad-248012dd6973",
   "metadata": {},
   "outputs": [],
   "source": [
    "trigrams = (pd.Series(nltk.ngrams(tokens, 3)).value_counts())\n",
    "print(trigrams[:10])"
   ]
  },
  {
   "cell_type": "markdown",
   "id": "37b1556d-e559-41d6-a364-4a61a435a289",
   "metadata": {},
   "source": [
    "### Real-Life Example"
   ]
  },
  {
   "cell_type": "code",
   "execution_count": null,
   "id": "b811479e-e21d-4831-bcff-44b630c85011",
   "metadata": {},
   "outputs": [],
   "source": [
    "import nltk\n",
    "from nltk.tokenize import word_tokenize\n",
    "from nltk.stem import PorterStemmer, WordNetLemmatizer\n",
    "from nltk.corpus import stopwords\n",
    "import re \n",
    "import pandas as pd"
   ]
  },
  {
   "cell_type": "code",
   "execution_count": null,
   "id": "8cea388a-60c1-4d0a-b5ae-0c214828856b",
   "metadata": {},
   "outputs": [],
   "source": [
    "data = pd.read_csv(\"tripadvisor_hotel_reviews.csv\")"
   ]
  },
  {
   "cell_type": "code",
   "execution_count": null,
   "id": "98aec829-7a7a-434a-9c5b-24011481a3cb",
   "metadata": {},
   "outputs": [],
   "source": [
    "data.info()"
   ]
  },
  {
   "cell_type": "code",
   "execution_count": null,
   "id": "cd425497-90d7-4639-a656-501d52be1512",
   "metadata": {},
   "outputs": [],
   "source": [
    "data.head()"
   ]
  },
  {
   "cell_type": "code",
   "execution_count": null,
   "id": "c217eb55-0aa7-456a-992c-5577dbd8ef83",
   "metadata": {},
   "outputs": [],
   "source": [
    "data['Review'][0]"
   ]
  },
  {
   "cell_type": "code",
   "execution_count": null,
   "id": "9ea83d1e-4726-4923-abde-ad2df65ad66d",
   "metadata": {},
   "outputs": [],
   "source": [
    "data['review_lowercase'] = data['Review'].str.lower()"
   ]
  },
  {
   "cell_type": "code",
   "execution_count": null,
   "id": "957be6a8-6191-45be-bf90-ec18a10f7307",
   "metadata": {},
   "outputs": [],
   "source": [
    "data.head()"
   ]
  },
  {
   "cell_type": "code",
   "execution_count": null,
   "id": "b6d72080-94fe-438e-aa66-82fea63cc287",
   "metadata": {},
   "outputs": [],
   "source": [
    "en_stopwords = stopwords.words('english')"
   ]
  },
  {
   "cell_type": "code",
   "execution_count": null,
   "id": "8695b3ae-fa20-4784-ac91-153b39665464",
   "metadata": {},
   "outputs": [],
   "source": [
    "en_stopwords.remove('not')"
   ]
  },
  {
   "cell_type": "code",
   "execution_count": null,
   "id": "065782d3-bc57-447e-87ab-1c35f7a48999",
   "metadata": {},
   "outputs": [],
   "source": [
    "data['review_no_stopwords'] = data['review_lowercase'].apply(lambda x: ' '.join([word for word in x.split() if word not in (en_stopwords)]))"
   ]
  },
  {
   "cell_type": "code",
   "execution_count": null,
   "id": "5e7f3c7e-f378-46f6-ba38-f29652cb545a",
   "metadata": {},
   "outputs": [],
   "source": [
    "data['review_no_stopwords'][0]"
   ]
  },
  {
   "cell_type": "code",
   "execution_count": null,
   "id": "200edea8-0cb5-4e73-bcb8-c326f631fc0e",
   "metadata": {},
   "outputs": [],
   "source": [
    "data['review_no_stopwords_no_punct'] = data.apply(lambda x: re.sub(r'[*]', 'star', x['review_no_stopwords']), axis=1)"
   ]
  },
  {
   "cell_type": "code",
   "execution_count": null,
   "id": "b164cb2a-81f5-45fb-907b-8a02fbe2f6b1",
   "metadata": {},
   "outputs": [],
   "source": [
    "data.head()"
   ]
  },
  {
   "cell_type": "code",
   "execution_count": null,
   "id": "d81808c9-b562-4660-a127-56a96d8b99ed",
   "metadata": {},
   "outputs": [],
   "source": [
    "data['review_no_stopwords_no_punct'] = data.apply(lambda x: re.sub(r'([^\\w\\s])', '', x['review_no_stopwords_no_punct']), axis=1)"
   ]
  },
  {
   "cell_type": "code",
   "execution_count": null,
   "id": "f3067164-78b5-4cd2-9495-e4016e784fce",
   "metadata": {},
   "outputs": [],
   "source": [
    "data.head()"
   ]
  },
  {
   "cell_type": "code",
   "execution_count": null,
   "id": "b77ee3f3-db0a-44c2-84da-1af9cd257971",
   "metadata": {},
   "outputs": [],
   "source": [
    "data['tokenized']= data.apply(lambda x: word_tokenize(x['review_no_stopwords_no_punct']), axis=1)"
   ]
  },
  {
   "cell_type": "code",
   "execution_count": null,
   "id": "1d48ae1b-fe0c-4216-962a-18ecde4dc0e2",
   "metadata": {},
   "outputs": [],
   "source": [
    "data['tokenized'][0]"
   ]
  },
  {
   "cell_type": "code",
   "execution_count": null,
   "id": "c078c325-a159-4ceb-8521-c4eccb9436d2",
   "metadata": {},
   "outputs": [],
   "source": [
    "ps = PorterStemmer()"
   ]
  },
  {
   "cell_type": "code",
   "execution_count": null,
   "id": "2bfcc33c-ba09-43f2-ad4a-f0ae2aeda1fc",
   "metadata": {},
   "outputs": [],
   "source": [
    "data['stemmed'] = data['tokenized'].apply(lambda tokens: [ps.stem(token) for token in tokens])"
   ]
  },
  {
   "cell_type": "code",
   "execution_count": null,
   "id": "6cde63a6-83af-41fc-8ad5-a41303362eec",
   "metadata": {},
   "outputs": [],
   "source": [
    "data.head()"
   ]
  },
  {
   "cell_type": "code",
   "execution_count": null,
   "id": "0a05da63-36f3-4748-aa30-5d0bb39876ad",
   "metadata": {},
   "outputs": [],
   "source": [
    "lemmatizer = WordNetLemmatizer()"
   ]
  },
  {
   "cell_type": "code",
   "execution_count": null,
   "id": "0372a727-bedc-46fb-a6d1-517cd5d834b8",
   "metadata": {},
   "outputs": [],
   "source": [
    "data['lemmatized'] = data['tokenized'].apply(lambda tokens: [lemmatizer.lemmatize(token) for token in tokens])"
   ]
  },
  {
   "cell_type": "code",
   "execution_count": null,
   "id": "45b8ab19-6143-43ad-8778-ff17a5f49efe",
   "metadata": {},
   "outputs": [],
   "source": [
    "data['lemmatized'][0]"
   ]
  },
  {
   "cell_type": "code",
   "execution_count": null,
   "id": "cac0b3f7-16c0-4a1b-a960-a8adf6dc9fb5",
   "metadata": {},
   "outputs": [],
   "source": [
    "tokens_clean = sum(data['lemmatized'], [])"
   ]
  },
  {
   "cell_type": "code",
   "execution_count": null,
   "id": "294b73aa-7293-4aa3-83d6-eb6857e3f0dc",
   "metadata": {},
   "outputs": [],
   "source": [
    "unigrams = (pd.Series(nltk.ngrams(tokens_clean, 1)).value_counts())\n",
    "print(unigrams)"
   ]
  },
  {
   "cell_type": "code",
   "execution_count": null,
   "id": "2a2b3fa1-0e7a-4fa7-b5e9-d9dc5e50f33e",
   "metadata": {},
   "outputs": [],
   "source": [
    "bigrams = (pd.Series(nltk.ngrams(tokens_clean, 2)).value_counts())\n",
    "print(bigrams)"
   ]
  }
 ],
 "metadata": {
  "kernelspec": {
   "display_name": "Python 3 (ipykernel)",
   "language": "python",
   "name": "python3"
  },
  "language_info": {
   "codemirror_mode": {
    "name": "ipython",
    "version": 3
   },
   "file_extension": ".py",
   "mimetype": "text/x-python",
   "name": "python",
   "nbconvert_exporter": "python",
   "pygments_lexer": "ipython3",
   "version": "3.12.4"
  }
 },
 "nbformat": 4,
 "nbformat_minor": 5
}
