{
 "cells": [
  {
   "cell_type": "markdown",
   "id": "74651ef9-bb4c-4faf-ac25-9d9a9315fa0a",
   "metadata": {},
   "source": [
    "# Natural Language Processing"
   ]
  },
  {
   "cell_type": "markdown",
   "id": "4669f28f-c2a3-4899-acf1-dc84a6e50233",
   "metadata": {},
   "source": [
    "## Parts Of Speech (POS) tagging"
   ]
  },
  {
   "cell_type": "code",
   "execution_count": null,
   "id": "89ddd1c7-f932-43ea-9343-647188d8b0ce",
   "metadata": {},
   "outputs": [],
   "source": [
    "pip install -U pip setuptools wheel"
   ]
  },
  {
   "cell_type": "code",
   "execution_count": null,
   "id": "f88c5629-69f8-46fe-82e6-93443761bc3d",
   "metadata": {},
   "outputs": [],
   "source": [
    "pip install -U spacy"
   ]
  },
  {
   "cell_type": "code",
   "execution_count": null,
   "id": "20f1ce26-a48e-4a3a-bca3-5a264987d513",
   "metadata": {},
   "outputs": [],
   "source": [
    "pip install numpy==1.26.4, pandas==2.2.1, pydantic==2.7.4"
   ]
  },
  {
   "cell_type": "code",
   "execution_count": null,
   "id": "625bc5e8-7a5f-41b3-aa44-bfb63ba52ef7",
   "metadata": {},
   "outputs": [],
   "source": [
    "import spacy\n",
    "import pandas as pd"
   ]
  },
  {
   "cell_type": "code",
   "execution_count": null,
   "id": "dba4bad1-8c2a-4312-ae0a-18115e4c6359",
   "metadata": {},
   "outputs": [],
   "source": [
    "nlp = spacy.load('en_core_web_sm')"
   ]
  },
  {
   "cell_type": "code",
   "execution_count": null,
   "id": "a814b22a-ccbc-4fa5-bb35-2145edaf52b7",
   "metadata": {},
   "outputs": [],
   "source": [
    "emma_ja = \"emma woodhouse handsome clever and rich with a comfortable home and happy disposition seemed to unite some of the best blessings of existence and had lived nearly twentyone years in the world with very little to distress or vex her she was the youngest of the two daughters of a most affectionate indulgent father and had in consequence of her sisters marriage been mistress of his house from a very early period her mother had died too long ago for her to have more than an indistinct remembrance of her caresses and her place had been supplied by an excellent woman as governess who had fallen little short of a mother in affection sixteen years had miss taylor been in mr woodhouses family less as a governess than a friend very fond of both daughters but particularly of emma between them it was more the intimacy of sisters even before miss taylor had ceased to hold the nominal office of governess the mildness of her temper had hardly allowed her to impose any restraint and the shadow of authority being now long passed away they had been living together as friend and friend very mutually attached and emma doing just what she liked highly esteeming miss taylors judgment but directed chiefly by her own\"\n",
    "print(emma_ja)"
   ]
  },
  {
   "cell_type": "code",
   "execution_count": null,
   "id": "a47172d2-1458-4dc4-9d66-c63ae53dfb79",
   "metadata": {},
   "outputs": [],
   "source": [
    "spacy_doc = nlp(emma_ja)"
   ]
  },
  {
   "cell_type": "code",
   "execution_count": null,
   "id": "ce3013f5-4458-4687-8c47-47ef9a8bd38c",
   "metadata": {},
   "outputs": [],
   "source": [
    "data = []\n",
    "for token in spacy_doc:\n",
    "    data.append({\n",
    "        \"token\": token.text,\n",
    "        \"pos_tag\": token.pos_\n",
    "    })\n",
    "\n",
    "pos_df = pd.DataFrame(data)"
   ]
  },
  {
   "cell_type": "code",
   "execution_count": null,
   "id": "ff621ef2-b5fb-4422-bebe-52042d283ba8",
   "metadata": {},
   "outputs": [],
   "source": [
    "pos_df.head(15)"
   ]
  },
  {
   "cell_type": "code",
   "execution_count": null,
   "id": "08bc59bd-3112-4801-ac5c-6e2542ecb5d2",
   "metadata": {},
   "outputs": [],
   "source": [
    "pos_df_counts = pos_df.groupby(['token', 'pos_tag']).size().reset_index(name='counts').sort_values(by='counts', ascending=False)"
   ]
  },
  {
   "cell_type": "code",
   "execution_count": null,
   "id": "24814e59-48cf-469f-982f-63ab8394fdad",
   "metadata": {},
   "outputs": [],
   "source": [
    "pos_df_counts.head(10)"
   ]
  },
  {
   "cell_type": "code",
   "execution_count": null,
   "id": "4118057a-f616-4e56-8ecd-cec583376c50",
   "metadata": {},
   "outputs": [],
   "source": [
    "pos_df_poscounts = pos_df_counts.groupby(['pos_tag'])['token'].count().sort_values(ascending=False)"
   ]
  },
  {
   "cell_type": "code",
   "execution_count": null,
   "id": "eb8de340-1731-4fe5-8b4b-8a7a9b9d09f2",
   "metadata": {},
   "outputs": [],
   "source": [
    "pos_df_poscounts.head(10)"
   ]
  },
  {
   "cell_type": "code",
   "execution_count": null,
   "id": "ba84bd71-ce3c-486d-8333-f2658fe0fc53",
   "metadata": {},
   "outputs": [],
   "source": [
    "nouns = pos_df_counts[pos_df_counts.pos_tag == \"NOUN\"][:10]\n",
    "nouns"
   ]
  },
  {
   "cell_type": "code",
   "execution_count": null,
   "id": "42ef0fd9-929a-42ea-b299-345a5924af31",
   "metadata": {},
   "outputs": [],
   "source": [
    "adj = pos_df_counts[pos_df_counts.pos_tag == \"ADJ\"][:10]\n",
    "adj"
   ]
  },
  {
   "cell_type": "markdown",
   "id": "ee773606-ce25-47ad-a896-a881dbd2b454",
   "metadata": {},
   "source": [
    "## Named Entity Recognition (NER)"
   ]
  },
  {
   "cell_type": "code",
   "execution_count": null,
   "id": "22098d4a-c4f9-4f1b-a97f-3f4cb5cf6950",
   "metadata": {},
   "outputs": [],
   "source": [
    "import spacy\n",
    "from spacy import displacy\n",
    "from spacy import tokenizer\n",
    "import re"
   ]
  },
  {
   "cell_type": "code",
   "execution_count": null,
   "id": "0b73b8c2-933a-45f2-a25f-78c7fdfdcd4b",
   "metadata": {},
   "outputs": [],
   "source": [
    "nlp = spacy.load('en_core_web_sm')"
   ]
  },
  {
   "cell_type": "code",
   "execution_count": null,
   "id": "9c2ed337-4bff-4847-965f-1fab9f759305",
   "metadata": {},
   "outputs": [],
   "source": [
    "google_text = \"Google was founded on September 4, 1998, by American computer scientists Larry Page and Sergey Brin while they were PhD students at Stanford University in California. Together, they own about 14% of its publicly listed shares and control 56% of its stockholder voting power through super-voting stock. The company went public via an initial public offering (IPO) in 2004. In 2015, Google was reorganized as a wholly owned subsidiary of Alphabet Inc. Google is Alphabet's largest subsidiary and is a holding company for Alphabet's internet properties and interests. Sundar Pichai was appointed CEO of Google on October 24, 2015, replacing Larry Page, who became the CEO of Alphabet. On December 3, 2019, Pichai also became the CEO of Alphabet.\"\n",
    "print(google_text)"
   ]
  },
  {
   "cell_type": "code",
   "execution_count": null,
   "id": "3140b2c2-0245-433b-ab41-c22821c2af08",
   "metadata": {},
   "outputs": [],
   "source": [
    "spacy_doc = nlp(google_text)"
   ]
  },
  {
   "cell_type": "code",
   "execution_count": null,
   "id": "f9a09304-4ff5-4531-87e9-6fe8041a78a5",
   "metadata": {},
   "outputs": [],
   "source": [
    "for word in spacy_doc.ents:\n",
    "    print(word.text, word.label_)"
   ]
  },
  {
   "cell_type": "code",
   "execution_count": null,
   "id": "deca2d86-caf8-4e4b-8d28-653f9bc94a47",
   "metadata": {},
   "outputs": [],
   "source": [
    "displacy.render(spacy_doc, style='ent', jupyter=True)"
   ]
  },
  {
   "cell_type": "code",
   "execution_count": null,
   "id": "e1581a8a-2ac0-4730-a51e-41f19b53e283",
   "metadata": {},
   "outputs": [],
   "source": [
    "google_text_clean = re.sub(r'[^\\w\\s]', '', google_text).lower()\n",
    "print(google_text_clean)"
   ]
  },
  {
   "cell_type": "code",
   "execution_count": null,
   "id": "e504fe90-9f22-4a4f-8190-8060103910c3",
   "metadata": {},
   "outputs": [],
   "source": [
    "spacy_doc_clean = nlp(google_text_clean)"
   ]
  },
  {
   "cell_type": "code",
   "execution_count": null,
   "id": "2f4e9375-b8f5-42e2-9fff-475b26811af4",
   "metadata": {},
   "outputs": [],
   "source": [
    "for word in spacy_doc_clean.ents:\n",
    "    print(word.text, word.label_)"
   ]
  },
  {
   "cell_type": "code",
   "execution_count": null,
   "id": "77f4b0a0-d2b7-4d1c-9624-6b5966b08cf1",
   "metadata": {},
   "outputs": [],
   "source": [
    "displacy.render(spacy_doc_clean, style='ent', jupyter=True)"
   ]
  },
  {
   "cell_type": "markdown",
   "id": "3d62eb93-fa22-4325-b44c-44cd207cf55e",
   "metadata": {},
   "source": [
    "## Real-Life Example"
   ]
  },
  {
   "cell_type": "code",
   "execution_count": null,
   "id": "70597d78-9ffa-4ee5-89a9-818d0c95590b",
   "metadata": {},
   "outputs": [],
   "source": [
    "import nltk\n",
    "from nltk.tokenize import word_tokenize\n",
    "from nltk.corpus import stopwords\n",
    "from nltk.stem import WordNetLemmatizer\n",
    "import spacy\n",
    "import re\n",
    "import pandas as pd\n",
    "import matplotlib.pyplot as plt"
   ]
  },
  {
   "cell_type": "code",
   "execution_count": null,
   "id": "12dcab32-b76d-441c-a204-aac9c531bf3e",
   "metadata": {},
   "outputs": [],
   "source": [
    "bbc_data = pd.read_csv('bbc_news.csv')"
   ]
  },
  {
   "cell_type": "code",
   "execution_count": null,
   "id": "98e3b91b-9ae4-4032-825f-921a60e2e2f1",
   "metadata": {},
   "outputs": [],
   "source": [
    "bbc_data.head()"
   ]
  },
  {
   "cell_type": "code",
   "execution_count": null,
   "id": "71c867a8-8409-4d15-9e26-6bcd94492694",
   "metadata": {},
   "outputs": [],
   "source": [
    "bbc_data.info()"
   ]
  },
  {
   "cell_type": "code",
   "execution_count": null,
   "id": "f20076ad-771c-4c35-8fb2-af33854f3b31",
   "metadata": {},
   "outputs": [],
   "source": [
    "titles = pd.DataFrame(bbc_data['title'])"
   ]
  },
  {
   "cell_type": "code",
   "execution_count": null,
   "id": "b00429f6-ccc4-40b7-b2d2-ba68e11d1256",
   "metadata": {},
   "outputs": [],
   "source": [
    "titles.head()"
   ]
  },
  {
   "cell_type": "markdown",
   "id": "063007b0-6ab3-4d63-98ce-d42d4564f8f2",
   "metadata": {},
   "source": [
    "### Clean Data"
   ]
  },
  {
   "cell_type": "code",
   "execution_count": null,
   "id": "3815fa9f-ec77-4a34-a4d0-7e40b957d489",
   "metadata": {},
   "outputs": [],
   "source": [
    "#lowercase\n",
    "titles['lowercase'] = titles['title'].str.lower()"
   ]
  },
  {
   "cell_type": "code",
   "execution_count": null,
   "id": "fbcca9f1-54c9-46e7-b882-82e3eb08966b",
   "metadata": {},
   "outputs": [],
   "source": [
    "#stop word removal\n",
    "en_stopwords = stopwords.words('english')\n",
    "titles['no_stopwords'] = titles['lowercase'].apply(lambda x: ' '.join([word for word in x.split() if word not in en_stopwords]))"
   ]
  },
  {
   "cell_type": "code",
   "execution_count": null,
   "id": "a3df30ed-bd99-49ea-8fe1-d21746a7a3b4",
   "metadata": {},
   "outputs": [],
   "source": [
    "#punctuation removal\n",
    "titles['no_stopwords_no_punct'] = titles.apply(lambda x: re.sub(r'[^\\w\\s]', '', x['no_stopwords']), axis=1)"
   ]
  },
  {
   "cell_type": "code",
   "execution_count": null,
   "id": "2d550de7-36c6-4c06-881f-5b1137049b9d",
   "metadata": {},
   "outputs": [],
   "source": [
    "#tokenize\n",
    "titles['tokens_raw'] = titles.apply(lambda x: word_tokenize(x['title']), axis=1)\n",
    "titles['tokens_clean'] = titles.apply(lambda x: word_tokenize(x['no_stopwords_no_punct']), axis=1)"
   ]
  },
  {
   "cell_type": "code",
   "execution_count": null,
   "id": "ba9ea2d9-bc0f-4922-8321-e335c996f982",
   "metadata": {},
   "outputs": [],
   "source": [
    "#lemmatizing\n",
    "lemmatizer = WordNetLemmatizer()\n",
    "titles['tokens_clean_lemmatized'] = titles['tokens_clean'].apply(lambda tokens: [lemmatizer.lemmatize(token) for token in tokens])"
   ]
  },
  {
   "cell_type": "code",
   "execution_count": null,
   "id": "15443301-7d6c-4093-9d45-dd6d7c15e3dd",
   "metadata": {},
   "outputs": [],
   "source": [
    "titles.head()"
   ]
  },
  {
   "cell_type": "code",
   "execution_count": null,
   "id": "51dbd4c9-42ad-4333-8a71-57d5840b90b5",
   "metadata": {},
   "outputs": [],
   "source": [
    "#lists for our tokens\n",
    "tokens_raw_list = sum(titles['tokens_raw'], [])\n",
    "tokens_clean_list = sum(titles['tokens_clean_lemmatized'], [])"
   ]
  },
  {
   "cell_type": "markdown",
   "id": "9ccbd5bb-be2a-46e1-a5df-f55ab65f4df4",
   "metadata": {},
   "source": [
    "### POS Tagging"
   ]
  },
  {
   "cell_type": "code",
   "execution_count": null,
   "id": "c6e319b1-1592-4079-9f9c-08940d671e4c",
   "metadata": {},
   "outputs": [],
   "source": [
    "nlp = spacy.load('en_core_web_sm')"
   ]
  },
  {
   "cell_type": "code",
   "execution_count": null,
   "id": "03811844-ab66-4eaa-9f70-b64abfea1e68",
   "metadata": {},
   "outputs": [],
   "source": [
    "spacy_doc = nlp(' '.join(tokens_raw_list))"
   ]
  },
  {
   "cell_type": "code",
   "execution_count": null,
   "id": "65bdf851-92ec-4c15-83ed-72d9a055434c",
   "metadata": {},
   "outputs": [],
   "source": [
    "data = []\n",
    "for token in spacy_doc:\n",
    "    data.append({\n",
    "        \"token\": token.text,\n",
    "        \"pos_tag\": token.pos_\n",
    "    })\n",
    "\n",
    "pos_df = pd.DataFrame(data)"
   ]
  },
  {
   "cell_type": "code",
   "execution_count": null,
   "id": "4f4bfbfc-2433-4ef4-a7da-17754eedbe34",
   "metadata": {},
   "outputs": [],
   "source": [
    "pos_df_counts = pos_df.groupby(['token', 'pos_tag']).size().reset_index(name='counts').sort_values(by='counts', ascending=False)\n",
    "pos_df_counts.head(10)"
   ]
  },
  {
   "cell_type": "code",
   "execution_count": null,
   "id": "ad94b854-2099-43fe-a2d8-93b5f2d264ae",
   "metadata": {},
   "outputs": [],
   "source": [
    "nouns = pos_df_counts[pos_df_counts.pos_tag == \"NOUN\"][:10]\n",
    "nouns"
   ]
  },
  {
   "cell_type": "code",
   "execution_count": null,
   "id": "5ef12da6-7b9d-4df1-853e-4be6c8a417c2",
   "metadata": {},
   "outputs": [],
   "source": [
    "verbs = pos_df_counts[pos_df_counts.pos_tag == \"VERB\"][:10]\n",
    "verbs"
   ]
  },
  {
   "cell_type": "code",
   "execution_count": null,
   "id": "6bbe0d60-a4c5-4d5f-8d9b-adaa891c8a77",
   "metadata": {},
   "outputs": [],
   "source": [
    "adj = pos_df_counts[pos_df_counts.pos_tag == \"ADJ\"][:10]\n",
    "adj"
   ]
  },
  {
   "cell_type": "markdown",
   "id": "ee1a0364-aa3b-40fb-b778-afc2e8ab4ca5",
   "metadata": {},
   "source": [
    "### Named Entity Recognition"
   ]
  },
  {
   "cell_type": "code",
   "execution_count": null,
   "id": "441adf6e-877d-4b34-bd5e-aec06618d218",
   "metadata": {},
   "outputs": [],
   "source": [
    "data = []\n",
    "for token in spacy_doc.ents:\n",
    "    data.append({\n",
    "        \"token\": token.text,\n",
    "        \"ner_tag\": token.label_\n",
    "    })\n",
    "\n",
    "ner_df = pd.DataFrame(data)"
   ]
  },
  {
   "cell_type": "code",
   "execution_count": null,
   "id": "14e98337-e137-4907-a4b2-bbd5e68200f9",
   "metadata": {},
   "outputs": [],
   "source": [
    "ner_df.head()"
   ]
  },
  {
   "cell_type": "code",
   "execution_count": null,
   "id": "aef563e2-b122-4577-99a7-1da1246176ef",
   "metadata": {},
   "outputs": [],
   "source": [
    "ner_df_counts = ner_df.groupby(['token', 'ner_tag']).size().reset_index(name='counts').sort_values(by='counts', ascending=False)"
   ]
  },
  {
   "cell_type": "code",
   "execution_count": null,
   "id": "9d2e682f-2a04-469c-8688-84d1d971b1f3",
   "metadata": {},
   "outputs": [],
   "source": [
    "ner_df_counts.head()"
   ]
  },
  {
   "cell_type": "code",
   "execution_count": null,
   "id": "a3590558-d39e-4c3f-bbaa-2e1bbac6d374",
   "metadata": {},
   "outputs": [],
   "source": [
    "people = ner_df_counts[ner_df_counts.ner_tag == 'PERSON'][:10]\n",
    "people"
   ]
  }
 ],
 "metadata": {
  "kernelspec": {
   "display_name": "Python 3 (ipykernel)",
   "language": "python",
   "name": "python3"
  },
  "language_info": {
   "codemirror_mode": {
    "name": "ipython",
    "version": 3
   },
   "file_extension": ".py",
   "mimetype": "text/x-python",
   "name": "python",
   "nbconvert_exporter": "python",
   "pygments_lexer": "ipython3",
   "version": "3.12.4"
  }
 },
 "nbformat": 4,
 "nbformat_minor": 5
}
