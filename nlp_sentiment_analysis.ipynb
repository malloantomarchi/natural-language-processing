{
 "cells": [
  {
   "cell_type": "markdown",
   "id": "12882a36-1343-484a-a5b4-be26a6077ff1",
   "metadata": {},
   "source": [
    "# Natural Language Processing"
   ]
  },
  {
   "cell_type": "markdown",
   "id": "77403f29-77b9-4542-bb0a-da1a3d6480c0",
   "metadata": {},
   "source": [
    "## Sentiment Analysis"
   ]
  },
  {
   "cell_type": "markdown",
   "id": "19c9f2c2-841a-4ad2-86bd-bc720554c9f2",
   "metadata": {},
   "source": [
    "### Rule-based sentiment analysis"
   ]
  },
  {
   "cell_type": "code",
   "execution_count": null,
   "id": "6f94b677-7c70-4d0e-a0a8-fa01f2af1f56",
   "metadata": {},
   "outputs": [],
   "source": [
    "sentence_1 = \"I had a great time at the movie it was really funny\"\n",
    "sentence_2 = \"I had a great time at the movie but the parking was terrible\"\n",
    "sentence_3 = \"I had a great time at the movie but the parking wasn't great\"\n",
    "sentence_4 = \"I want to see a movie\""
   ]
  },
  {
   "cell_type": "markdown",
   "id": "55b95fc5-6b0d-48c8-8604-5e2f64dac71a",
   "metadata": {},
   "source": [
    "#### TextBlob"
   ]
  },
  {
   "cell_type": "code",
   "execution_count": null,
   "id": "1cb8ce4b-6237-4560-ad00-57e316532dd6",
   "metadata": {},
   "outputs": [],
   "source": [
    "pip install textblob"
   ]
  },
  {
   "cell_type": "code",
   "execution_count": null,
   "id": "e94df7f1-57b3-455c-9445-044fcc024ee7",
   "metadata": {},
   "outputs": [],
   "source": [
    "from textblob import TextBlob"
   ]
  },
  {
   "cell_type": "code",
   "execution_count": null,
   "id": "45eb32de-cc23-44ee-9a83-a3bf5fe63399",
   "metadata": {},
   "outputs": [],
   "source": [
    "print(sentence_1)\n",
    "sentiment_score_1 = TextBlob(sentence_1)\n",
    "print(sentiment_score_1.sentiment.polarity)"
   ]
  },
  {
   "cell_type": "code",
   "execution_count": null,
   "id": "08628ac3-46c2-419d-9cea-858ff8c4e2c5",
   "metadata": {},
   "outputs": [],
   "source": [
    "print(sentence_2)\n",
    "sentiment_score_2 = TextBlob(sentence_2)\n",
    "print(sentiment_score_2.sentiment.polarity)"
   ]
  },
  {
   "cell_type": "code",
   "execution_count": null,
   "id": "df55e1cb-29e7-4405-84a5-dbc1281217e5",
   "metadata": {},
   "outputs": [],
   "source": [
    "print(sentence_3)\n",
    "sentiment_score_3 = TextBlob(sentence_3)\n",
    "print(sentiment_score_3.sentiment.polarity)"
   ]
  },
  {
   "cell_type": "code",
   "execution_count": null,
   "id": "cc5e343e-2267-4774-b70f-59f401b18e38",
   "metadata": {},
   "outputs": [],
   "source": [
    "print(sentence_4)\n",
    "sentiment_score_4 = TextBlob(sentence_4)\n",
    "print(sentiment_score_4.sentiment.polarity)"
   ]
  },
  {
   "cell_type": "markdown",
   "id": "a0cd694d-1f7b-43a4-97d6-98485854d0eb",
   "metadata": {},
   "source": [
    "#### VADER"
   ]
  },
  {
   "cell_type": "code",
   "execution_count": null,
   "id": "cde77c81-6bbc-4163-a9fc-296362e10506",
   "metadata": {},
   "outputs": [],
   "source": [
    "pip install vaderSentiment"
   ]
  },
  {
   "cell_type": "code",
   "execution_count": null,
   "id": "16b56cd1-fa21-4316-8515-17eb31469e1d",
   "metadata": {},
   "outputs": [],
   "source": [
    "from vaderSentiment.vaderSentiment import SentimentIntensityAnalyzer"
   ]
  },
  {
   "cell_type": "code",
   "execution_count": null,
   "id": "86d30c5a-8dd3-41c5-9124-0f6b20667817",
   "metadata": {},
   "outputs": [],
   "source": [
    "vader_sentiment = SentimentIntensityAnalyzer()"
   ]
  },
  {
   "cell_type": "code",
   "execution_count": null,
   "id": "1a5c139c-1df7-4d58-9636-93d74b6bc919",
   "metadata": {},
   "outputs": [],
   "source": [
    "print(sentence_1)\n",
    "print(vader_sentiment.polarity_scores(sentence_1))"
   ]
  },
  {
   "cell_type": "code",
   "execution_count": null,
   "id": "5ab6ee3f-de4f-4b5c-b1af-351a9423785b",
   "metadata": {},
   "outputs": [],
   "source": [
    "print(sentence_2)\n",
    "print(vader_sentiment.polarity_scores(sentence_2))"
   ]
  },
  {
   "cell_type": "code",
   "execution_count": null,
   "id": "a76ba19e-ec74-416a-9729-9ce92f9918d3",
   "metadata": {},
   "outputs": [],
   "source": [
    "print(sentence_3)\n",
    "print(vader_sentiment.polarity_scores(sentence_3))"
   ]
  },
  {
   "cell_type": "code",
   "execution_count": null,
   "id": "6eeff2ff-98ca-486c-bb73-6be840b117c0",
   "metadata": {},
   "outputs": [],
   "source": [
    "print(sentence_4)\n",
    "print(vader_sentiment.polarity_scores(sentence_4))"
   ]
  },
  {
   "cell_type": "markdown",
   "id": "02b9adc2-21e5-4a0e-9eaf-d0bd32a3d8ec",
   "metadata": {},
   "source": [
    "### Pre-trained Transformer"
   ]
  },
  {
   "cell_type": "code",
   "execution_count": null,
   "id": "51fca4f8-a236-41ff-a05a-53f6b11d7563",
   "metadata": {},
   "outputs": [],
   "source": [
    "pip install transformers"
   ]
  },
  {
   "cell_type": "code",
   "execution_count": null,
   "id": "ee5b088c-fd2f-4a20-9aed-e53e91f12e95",
   "metadata": {},
   "outputs": [],
   "source": [
    "pip install torch torchvision torchaudio"
   ]
  },
  {
   "cell_type": "code",
   "execution_count": null,
   "id": "a15f44fb-2878-42f6-9918-6e3d5adc69e7",
   "metadata": {},
   "outputs": [],
   "source": [
    "import transformers\n",
    "from transformers import pipeline"
   ]
  },
  {
   "cell_type": "code",
   "execution_count": null,
   "id": "36ae1c30-b701-4ddf-9a7d-a173bbb13280",
   "metadata": {},
   "outputs": [],
   "source": [
    "sentiment_pipeline = pipeline('sentiment-analysis')"
   ]
  },
  {
   "cell_type": "code",
   "execution_count": null,
   "id": "cf9b79d8-0c39-4874-adc1-52694efd95a9",
   "metadata": {},
   "outputs": [],
   "source": [
    "print(sentence_1)\n",
    "sentiment_pipeline(sentence_1)"
   ]
  },
  {
   "cell_type": "code",
   "execution_count": null,
   "id": "143b2dc9-86a2-4961-a1bc-cac5a84fa301",
   "metadata": {},
   "outputs": [],
   "source": [
    "print(sentence_2)\n",
    "sentiment_pipeline(sentence_2)"
   ]
  },
  {
   "cell_type": "code",
   "execution_count": null,
   "id": "f0fb4583-c78e-4a55-8cb0-cfb8f14e75a1",
   "metadata": {},
   "outputs": [],
   "source": [
    "print(sentence_3)\n",
    "sentiment_pipeline(sentence_3)"
   ]
  },
  {
   "cell_type": "code",
   "execution_count": null,
   "id": "2d3a81bc-fb07-4a81-9bbb-3845aa097220",
   "metadata": {},
   "outputs": [],
   "source": [
    "print(sentence_4)\n",
    "sentiment_pipeline(sentence_4)"
   ]
  },
  {
   "cell_type": "code",
   "execution_count": null,
   "id": "f6700984-62ba-4eb8-ab4b-6068bcf37068",
   "metadata": {},
   "outputs": [],
   "source": [
    "specific_model = pipeline('sentiment-analysis', model='finiteautomata/bertweet-base-sentiment-analysis')"
   ]
  },
  {
   "cell_type": "code",
   "execution_count": null,
   "id": "0b6eb671-81b4-4ece-99d7-c43282b841f7",
   "metadata": {},
   "outputs": [],
   "source": [
    "print(sentence_1)\n",
    "specific_model(sentence_1)"
   ]
  },
  {
   "cell_type": "code",
   "execution_count": null,
   "id": "d893de1a-9a52-4b9b-8f2c-65b8cb53b570",
   "metadata": {},
   "outputs": [],
   "source": [
    "print(sentence_2)\n",
    "specific_model(sentence_2)"
   ]
  },
  {
   "cell_type": "code",
   "execution_count": null,
   "id": "cb284944-5fb4-466c-bd2d-f4d79f442f8e",
   "metadata": {},
   "outputs": [],
   "source": [
    "print(sentence_3)\n",
    "specific_model(sentence_3)"
   ]
  },
  {
   "cell_type": "code",
   "execution_count": null,
   "id": "7d68032a-70ab-4d4c-9027-a5a9e6a901b2",
   "metadata": {},
   "outputs": [],
   "source": [
    "print(sentence_4)\n",
    "specific_model(sentence_4)"
   ]
  },
  {
   "cell_type": "markdown",
   "id": "312d4938-53b8-4d0e-bc74-9cbbd2a7a65c",
   "metadata": {},
   "source": [
    "## Real-Life Example"
   ]
  },
  {
   "cell_type": "code",
   "execution_count": null,
   "id": "4032c7fd-0e7b-4aa4-be9b-54f1fd64e368",
   "metadata": {},
   "outputs": [],
   "source": [
    "import pandas as pd\n",
    "import numpy as np\n",
    "import re\n",
    "from vaderSentiment.vaderSentiment import SentimentIntensityAnalyzer\n",
    "import transformers\n",
    "from transformers import pipeline"
   ]
  },
  {
   "cell_type": "code",
   "execution_count": null,
   "id": "797d0355-14e0-4352-bce2-f1b0d3dadab6",
   "metadata": {},
   "outputs": [],
   "source": [
    "data = pd.read_csv('book_reviews_sample.csv')"
   ]
  },
  {
   "cell_type": "code",
   "execution_count": null,
   "id": "340bd772-4231-46e7-809b-28b524ddd701",
   "metadata": {},
   "outputs": [],
   "source": [
    "data.head()"
   ]
  },
  {
   "cell_type": "code",
   "execution_count": null,
   "id": "0cccdb19-3bf6-42a2-b6b7-1fbc373afab9",
   "metadata": {},
   "outputs": [],
   "source": [
    "data.info()"
   ]
  },
  {
   "cell_type": "code",
   "execution_count": null,
   "id": "59a3c354-9ea8-43f5-9428-104c38a5a9f6",
   "metadata": {},
   "outputs": [],
   "source": [
    "data['reviewText'][0]"
   ]
  },
  {
   "cell_type": "code",
   "execution_count": null,
   "id": "416e09f1-5ab8-43f4-9c6a-01e8a7996ce4",
   "metadata": {},
   "outputs": [],
   "source": [
    "data['reviewText_clean'] = data.apply(lambda x: re.sub(r'[^\\w\\s]', '', x['reviewText']), axis=1).str.lower()"
   ]
  },
  {
   "cell_type": "code",
   "execution_count": null,
   "id": "6ceb4da3-32ec-479a-8749-2aac7476b0d3",
   "metadata": {},
   "outputs": [],
   "source": [
    "data.head()"
   ]
  },
  {
   "cell_type": "code",
   "execution_count": null,
   "id": "c470ad2b-98e8-413e-ae8c-d6567eb97da2",
   "metadata": {},
   "outputs": [],
   "source": [
    "vader_sentiment = SentimentIntensityAnalyzer()"
   ]
  },
  {
   "cell_type": "code",
   "execution_count": null,
   "id": "f94c392f-5adb-4266-8c21-63616b879a54",
   "metadata": {},
   "outputs": [],
   "source": [
    "data['vader_sentiment_score'] = data['reviewText_clean'].apply(lambda review: vader_sentiment.polarity_scores(review)['compound'])"
   ]
  },
  {
   "cell_type": "code",
   "execution_count": null,
   "id": "6426fae0-0fa9-4699-8d52-286011b022f9",
   "metadata": {},
   "outputs": [],
   "source": [
    "data.head()"
   ]
  },
  {
   "cell_type": "code",
   "execution_count": null,
   "id": "bf760a4b-03f2-4b71-9828-6af7df4b22cf",
   "metadata": {},
   "outputs": [],
   "source": [
    "bins = [-1, -0.1, 0.1, 1]\n",
    "names = ['negative', 'neutral', 'positive']\n",
    "\n",
    "data['vader_sentiment_label'] = pd.cut(data['vader_sentiment_score'], bins, labels=names)"
   ]
  },
  {
   "cell_type": "code",
   "execution_count": null,
   "id": "da37bc4a-670e-44c0-8fb8-a2b1f4d7d6d1",
   "metadata": {},
   "outputs": [],
   "source": [
    "data['vader_sentiment_label'].value_counts().plot.bar()"
   ]
  },
  {
   "cell_type": "code",
   "execution_count": null,
   "id": "d1ff3270-53fe-4bbd-a612-e797e5c65540",
   "metadata": {},
   "outputs": [],
   "source": [
    "transformer_pipeline = pipeline('sentiment-analysis')"
   ]
  },
  {
   "cell_type": "code",
   "execution_count": null,
   "id": "ed7fb5c7-9bf0-4548-99cf-14173d67a3ea",
   "metadata": {},
   "outputs": [],
   "source": [
    "transformer_labels = []\n",
    "\n",
    "for review in data['reviewText_clean'].values:\n",
    "    sentiment_list = transformer_pipeline(review)\n",
    "    sentiment_label = [sent['label'] for sent in sentiment_list]\n",
    "    transformer_labels.append(sentiment_label)"
   ]
  },
  {
   "cell_type": "code",
   "execution_count": null,
   "id": "7b6f8e90-ef82-4d30-98aa-9bb9d88f2c08",
   "metadata": {},
   "outputs": [],
   "source": [
    "data['transformer_sentiment_label'] = transformer_labels"
   ]
  },
  {
   "cell_type": "code",
   "execution_count": null,
   "id": "90df0da8-9f40-4331-98f5-c847f5b7b8b0",
   "metadata": {},
   "outputs": [],
   "source": [
    "data['transformer_sentiment_label'].value_counts().plot.bar()"
   ]
  }
 ],
 "metadata": {
  "kernelspec": {
   "display_name": "Python 3 (ipykernel)",
   "language": "python",
   "name": "python3"
  },
  "language_info": {
   "codemirror_mode": {
    "name": "ipython",
    "version": 3
   },
   "file_extension": ".py",
   "mimetype": "text/x-python",
   "name": "python",
   "nbconvert_exporter": "python",
   "pygments_lexer": "ipython3",
   "version": "3.12.4"
  }
 },
 "nbformat": 4,
 "nbformat_minor": 5
}
